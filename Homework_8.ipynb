{
 "cells": [
  {
   "cell_type": "code",
   "execution_count": 18,
   "metadata": {},
   "outputs": [
    {
     "data": {
      "text/plain": [
       "<Figure size 200x200 with 0 Axes>"
      ]
     },
     "metadata": {},
     "output_type": "display_data"
    },
    {
     "data": {
      "image/png": "[encoded data removed]",
      "text/plain": [
       "<Figure size 200x200 with 1 Axes>"
      ]
     },
     "metadata": {},
     "output_type": "display_data"
    }
   ],
   "source": [
    "import sys\n",
    "import numpy as np\n",
    "import Random as rng\n",
    "import matplotlib.pyplot as plt\n",
    "\n",
    "\n",
    "seed = 5052\n",
    "random = rng.Random(seed)\n",
    "\n",
    "\n",
    "n_true_values = 100\n",
    "n_tests = 100\n",
    "n_cups= 100\n",
    "n_trials = n_true_values * n_tests\n",
    "\n",
    "x_arr = [0]*n_trials\n",
    "y_arr = [0]*n_trials\n",
    "i_trial = 0\n",
    "\n",
    "for i in range (1, n_true_values):\n",
    "    true_alpha = i*0.01\n",
    "    for j in range (1, n_tests):\n",
    "        n_cups_correct = 0 \n",
    "        for cup in range (0,n_cups):\n",
    "            y = random.rand()\n",
    "            if y< true_alpha:\n",
    "                n_cups_correct += 1\n",
    "            \n",
    "        measured_alpha = n_cups_correct/n_cups\n",
    "        i_trial += 1 \n",
    "        x_arr[i_trial] = true_alpha\n",
    "        y_arr[i_trial] = measured_alpha\n",
    "\n",
    "\n",
    "\n",
    "\n",
    "\n",
    "\n",
    "    \n"
   ]
  },
  {
   "cell_type": "code",
   "execution_count": 70,
   "metadata": {},
   "outputs": [
    {
     "name": "stdout",
     "output_type": "stream",
     "text": [
      "[0.0, 0.0, 0.0, 0.0, 0.0, 0.0, 0.0, 0.0, 0.0, 0.0, 0.0, 0.0, 0.0, 0.0, 0.0, 0.0, 0.0, 0.0, 0.0, 0.0, 0.0, 0.0, 0.0, 0.0, 0.0, 0.0, 0.0, 0.0, 0.0, 0.0, 0.0, 0.0, 0.0, 0.0, 0.0, 0.0, 0.0, 0.0, 0.0, 0.0, 0.0, 0.0, 0.0, 0.0, 0.0, 0.0, 0.0, 0.0, 0.0, 0.0, 0.0, 0.0, 0.0, 0.0, 0.0, 0.0, 0.0, 0.0, 0.0, 0.01818181818181818, 0.01818181818181818, 0.03636363636363636, 0.00909090909090909, 0.0, 0.03636363636363636, 0.06363636363636363, 0.05454545454545454, 0.05454545454545454, 0.12727272727272726, 0.09999999999999999, 0.08181818181818182, 0.06363636363636363, 0.06363636363636363, 0.09090909090909091, 0.03636363636363636, 0.045454545454545456, 0.01818181818181818, 0.02727272727272727, 0.02727272727272727, 0.00909090909090909, 0.00909090909090909, 0.0, 0.00909090909090909, 0.0, 0.0, 0.0, 0.0, 0.0, 0.0, 0.0, 0.0, 0.0, 0.0, 0.0, 0.0, 0.0, 0.0, 0.0, 0.0, 0.0]\n"
     ]
    },
    {
     "data": {
      "image/png": "[encoded data removed]",
      "text/plain": [
       "<Figure size 200x200 with 1 Axes>"
      ]
     },
     "metadata": {},
     "output_type": "display_data"
    }
   ],
   "source": [
    "# figure_neyman = plt.figure()\n",
    "# plt.style.use('_mpl-gallery-nogrid')\n",
    "\n",
    "\n",
    "# # plot:\n",
    "# fig, ax = plt.subplots()\n",
    "\n",
    "# ax.hist2d(x_arr, y_arr, bins=(np.arange(0, 1, 0.01), np.arange(0, 1, 0.05)))\n",
    "\n",
    "# ax.set(xlim=(0, 1), ylim=(0, 1))\n",
    "\n",
    "# plt.show()\n",
    "\n",
    "###find values of i when y = 0.7\n",
    "\n",
    "\n",
    "true_values = [0]*n_true_values\n",
    "\n",
    "for j in range (1, n_trials):\n",
    "    if y_arr[j] == 0.7:\n",
    "        ibin_x = int(x_arr[j]*n_true_values)\n",
    "        true_values[ibin_x] += 1\n",
    "\n",
    "###summing true_values so we can normalize it\n",
    "\n",
    "total_true_values = sum(true_values)\n",
    "total_true_values_inv =  (1/total_true_values)\n",
    "\n",
    "    \n",
    "\n",
    "\n",
    "probability = [0] * len(true_values)\n",
    "for i in range(len(true_values)):\n",
    "    probability[i] = true_values[i] * total_true_values_inv\n",
    "print(probability)\n",
    "\n",
    "true_value_x = np.arange(0, 100, 1)\n",
    "plt.bar(true_value_x, probability)\n",
    "plt.xlabel('alpha as percentage correct guesses')\n",
    "plt.ylabel('normalized probability')\n",
    "plt.show()\n",
    "\n",
    "\n",
    "\n",
    "        \n",
    "        \n",
    "\n",
    "\n",
    "\n",
    "\n",
    "\n",
    "\n",
    "\n",
    "\n"
   ]
  }
 ],
 "metadata": {
  "kernelspec": {
   "display_name": "Python 3",
   "language": "python",
   "name": "python3"
  },
  "language_info": {
   "codemirror_mode": {
    "name": "ipython",
    "version": 3
   },
   "file_extension": ".py",
   "mimetype": "text/x-python",
   "name": "python",
   "nbconvert_exporter": "python",
   "pygments_lexer": "ipython3",
   "version": "3.10.6"
  },
  "orig_nbformat": 4
 },
 "nbformat": 4,
 "nbformat_minor": 2
}
